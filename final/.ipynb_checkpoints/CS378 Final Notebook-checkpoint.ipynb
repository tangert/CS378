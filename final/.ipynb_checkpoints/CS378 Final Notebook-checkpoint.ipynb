{
 "cells": [
  {
   "cell_type": "markdown",
   "metadata": {},
   "source": [
    "# CS378 Final Notebook\n",
    "\n",
    "Do well boi."
   ]
  },
  {
   "cell_type": "code",
   "execution_count": 44,
   "metadata": {},
   "outputs": [],
   "source": [
    "import math\n",
    "import statistics\n",
    "from sklearn.preprocessing import MinMaxScaler\n",
    "from scipy.spatial import distance"
   ]
  },
  {
   "cell_type": "markdown",
   "metadata": {},
   "source": [
    "## Preprocessing"
   ]
  },
  {
   "cell_type": "code",
   "execution_count": 45,
   "metadata": {},
   "outputs": [],
   "source": [
    "def zscore():\n",
    "    return 0"
   ]
  },
  {
   "cell_type": "code",
   "execution_count": 46,
   "metadata": {},
   "outputs": [
    {
     "name": "stdout",
     "output_type": "stream",
     "text": [
      "MinMaxScaler(copy=True, feature_range=(0, 1))\n",
      "[[0.4]\n",
      " [0.2]\n",
      " [0. ]\n",
      " [0.6]\n",
      " [1. ]]\n"
     ]
    }
   ],
   "source": [
    "data = [[33],[28],[23],[38],[48]]\n",
    "scaler = MinMaxScaler()\n",
    "print(scaler.fit(data))\n",
    "MinMaxScaler(copy=True, feature_range=(0, 1))\n",
    "print(scaler.transform(data))"
   ]
  },
  {
   "cell_type": "code",
   "execution_count": 47,
   "metadata": {},
   "outputs": [
    {
     "name": "stdout",
     "output_type": "stream",
     "text": [
      "MinMaxScaler(copy=True, feature_range=(0, 1))\n",
      "[[0.5  ]\n",
      " [0.   ]\n",
      " [1.   ]\n",
      " [0.375]\n",
      " [0.25 ]\n",
      " [0.   ]]\n"
     ]
    }
   ],
   "source": [
    "data = [[88],[68],[108],[83],[78],[68]]\n",
    "scaler = MinMaxScaler()\n",
    "print(scaler.fit(data))\n",
    "MinMaxScaler(copy=True, feature_range=(0, 1))\n",
    "print(scaler.transform(data))"
   ]
  },
  {
   "cell_type": "code",
   "execution_count": 51,
   "metadata": {},
   "outputs": [
    {
     "name": "stdout",
     "output_type": "stream",
     "text": [
      "1.4142135623730951 1.019803902718557 0.5 1.4142135623730951\n"
     ]
    }
   ],
   "source": [
    "inp = (0,0,0,1,0.2,0)\n",
    "\n",
    "t2 = (0,1,0,0,0.2,0)\n",
    "t3 = (0,0,0,1,0.4,1)\n",
    "t4 = (0,0,0,1,0.2,0.5)\n",
    "t8 = (1,0,0,0,0.2,0)\n",
    "\n",
    "dst1 = distance.euclidean(inp,t2)\n",
    "dst2 = distance.euclidean(inp,t3)\n",
    "dst3 = distance.euclidean(inp,t4)\n",
    "dst4 = distance.euclidean(inp,t8)\n",
    "\n",
    "\n",
    "print(dst1, dst2, dst3, dst4)"
   ]
  },
  {
   "cell_type": "code",
   "execution_count": null,
   "metadata": {},
   "outputs": [],
   "source": []
  },
  {
   "cell_type": "code",
   "execution_count": null,
   "metadata": {},
   "outputs": [],
   "source": []
  },
  {
   "cell_type": "code",
   "execution_count": null,
   "metadata": {},
   "outputs": [],
   "source": []
  },
  {
   "cell_type": "markdown",
   "metadata": {},
   "source": [
    "## Frequent Pattern Mining"
   ]
  },
  {
   "cell_type": "markdown",
   "metadata": {},
   "source": [
    "## Classification"
   ]
  },
  {
   "cell_type": "markdown",
   "metadata": {},
   "source": [
    "### Info gain and entropy"
   ]
  },
  {
   "cell_type": "code",
   "execution_count": 22,
   "metadata": {},
   "outputs": [],
   "source": [
    "def info(class_counts):\n",
    "    # go through each of the class counts, sum them up, and then apply the formula\n",
    "    \n",
    "    e = 0\n",
    "    total = sum(class_counts)\n",
    "    \n",
    "    for count in class_counts:\n",
    "        if count == 0:\n",
    "            return 0\n",
    "        ratio = count/total\n",
    "        result = ratio*math.log(ratio,2)\n",
    "        e -= result\n",
    "    \n",
    "    return e"
   ]
  },
  {
   "cell_type": "code",
   "execution_count": 12,
   "metadata": {},
   "outputs": [],
   "source": [
    "def info_d(split_class_counts):    \n",
    "    ig = 0    \n",
    "    total = sum([sum(counts) for counts in split_class_counts])\n",
    "    \n",
    "    for counts in split_class_counts:\n",
    "        ratio = sum(counts)/total\n",
    "        ig += ratio*info(counts)\n",
    "    \n",
    "    return ig"
   ]
  },
  {
   "cell_type": "markdown",
   "metadata": {},
   "source": [
    "### ID3 metric: info gain"
   ]
  },
  {
   "cell_type": "code",
   "execution_count": 13,
   "metadata": {},
   "outputs": [],
   "source": [
    "def info_gain(info, data):\n",
    "    ids = [info_d(d) for d in data]\n",
    "    gains = [info-infod for infod in ids]\n",
    "    return {\n",
    "        \"all\": gains,\n",
    "        \"best\": max(gains),\n",
    "        \"best_index\": gains.index(max(gains))\n",
    "    }"
   ]
  },
  {
   "cell_type": "markdown",
   "metadata": {},
   "source": [
    "### C4.5 metric: gain ratio"
   ]
  },
  {
   "cell_type": "code",
   "execution_count": 14,
   "metadata": {},
   "outputs": [],
   "source": [
    "def split_info(split_class_counts):\n",
    "    \n",
    "    si = 0\n",
    "    total = sum([sum(counts) for counts in split_class_counts])\n",
    "    \n",
    "    for counts in split_class_counts:\n",
    "        ratio = sum(counts)/total\n",
    "        si -= ratio*math.log(ratio,2)\n",
    "        \n",
    "    return si"
   ]
  },
  {
   "cell_type": "code",
   "execution_count": 15,
   "metadata": {},
   "outputs": [],
   "source": [
    "def gain_ratio(info, split_class_counts):\n",
    "    \n",
    "    ig = (info_gain(info, split_class_counts))[\"all\"]    \n",
    "    sis = [split_info(count) for count in split_class_counts]    \n",
    "    grs = [tup[0]/tup[1] for tup in zip(ig,sis)]\n",
    "        \n",
    "    return {\n",
    "        \"all\": grs,\n",
    "        \"best\": max(grs),\n",
    "        \"best_index\": grs.index(max(grs))\n",
    "    }"
   ]
  },
  {
   "cell_type": "markdown",
   "metadata": {},
   "source": [
    "## Sandbox"
   ]
  },
  {
   "cell_type": "code",
   "execution_count": 16,
   "metadata": {},
   "outputs": [],
   "source": [
    "\"\"\"\n",
    "Initialize the overall information of whatever set of tuples you are working with.\n",
    "For example:\n",
    "\n",
    "For 6 tuples with either Yes or No in the label column:\n",
    "Yes: 4\n",
    "No: 2\n",
    "i = info([4,2])\n",
    "\n",
    "Once you find the best split, repeat this process with a\n",
    "subset of the original tuples that are only relevant to the best split\n",
    "\n",
    "For ex: Split on occuputation from the midterm\n",
    "Go through all of the classes for occupation:\n",
    "\n",
    "if a class has 100% purity, it's a leaf\n",
    "if it is impure, you repeat the above process .\n",
    "So for example you split on other and count all the yes/nos...\n",
    "another info:\n",
    "Yes: 1\n",
    "No: 2\n",
    "i = info([1,2])\n",
    "\n",
    "\"\"\"\n",
    "i = info([4,2])"
   ]
  },
  {
   "cell_type": "code",
   "execution_count": 17,
   "metadata": {},
   "outputs": [],
   "source": [
    "# calculating info gain on all splits\n",
    "data = [\n",
    "    [[1,1],[3,1]], #edu\n",
    "    [[3,1],[1,1]],\n",
    "    [[3,0],[1,2]]\n",
    "]"
   ]
  },
  {
   "cell_type": "code",
   "execution_count": 18,
   "metadata": {},
   "outputs": [
    {
     "data": {
      "text/plain": [
       "{'all': [0.044110417748401076, 0.044110417748401076, 0.4591479170272448],\n",
       " 'best': 0.4591479170272448,\n",
       " 'best_index': 2}"
      ]
     },
     "execution_count": 18,
     "metadata": {},
     "output_type": "execute_result"
    }
   ],
   "source": [
    "# calculate all of the info gains and return the number (index + 1) of the best one to split\n",
    "info_gain(i, data)"
   ]
  },
  {
   "cell_type": "code",
   "execution_count": 23,
   "metadata": {},
   "outputs": [
    {
     "data": {
      "text/plain": [
       "{'all': [0.04803508424256193, 0.04803508424256193, 0.4591479170272448],\n",
       " 'best': 0.4591479170272448,\n",
       " 'best_index': 2}"
      ]
     },
     "execution_count": 23,
     "metadata": {},
     "output_type": "execute_result"
    }
   ],
   "source": [
    "gain_ratio(i,data)"
   ]
  },
  {
   "cell_type": "code",
   "execution_count": 27,
   "metadata": {},
   "outputs": [
    {
     "name": "stdout",
     "output_type": "stream",
     "text": [
      "49 70\n",
      "0.9774178175281716\n"
     ]
    }
   ],
   "source": [
    "\"\"\"\n",
    "FINAL EXAM QUESTION\n",
    "\n",
    "Classification of given tuples with counts\n",
    "\"\"\"\n",
    "\n",
    "# Instead of yes/no, it's senior/junior\n",
    "seniorcount = 30 + 5 + 10 + 4\n",
    "juniorcount = 40 + 20 + 4 + 6\n",
    "i = info([seniorcount,juniorcount])\n",
    "print(seniorcount, juniorcount)\n",
    "print(i)"
   ]
  },
  {
   "cell_type": "code",
   "execution_count": 33,
   "metadata": {},
   "outputs": [],
   "source": [
    "    \"\"\"  sales  systems marketing secretary\"\"\"\n",
    "    \"\"\" 33 28 23 38 48 \"\"\"\n",
    "    \"\"\" 88k 68k 108k 83k 78k\"\"\"\n",
    "data = [\n",
    "    [ [30,40],  [5,20],  [10,4],  [4,6]   ], # department\n",
    "    [  [35,4],  [0,46],  [0,20],  [10,0],  [4,0] ], # age\n",
    "    \n",
    "    [  [40,20],   [0,46],  [5,0],  [0,4],  [4,0] ], # salary\n",
    "]"
   ]
  },
  {
   "cell_type": "code",
   "execution_count": 34,
   "metadata": {},
   "outputs": [
    {
     "data": {
      "text/plain": [
       "{'all': [0.0630702057713548, 0.8210667171705761, 0.5144115146435551],\n",
       " 'best': 0.8210667171705761,\n",
       " 'best_index': 1}"
      ]
     },
     "execution_count": 34,
     "metadata": {},
     "output_type": "execute_result"
    }
   ],
   "source": [
    "info_gain(i, data)"
   ]
  },
  {
   "cell_type": "code",
   "execution_count": 35,
   "metadata": {},
   "outputs": [
    {
     "data": {
      "text/plain": [
       "{'all': [0.03974981080399257, 0.4200444814202603, 0.3320108991437347],\n",
       " 'best': 0.4200444814202603,\n",
       " 'best_index': 1}"
      ]
     },
     "execution_count": 35,
     "metadata": {},
     "output_type": "execute_result"
    }
   ],
   "source": [
    "gain_ratio(i,data)"
   ]
  },
  {
   "cell_type": "code",
   "execution_count": null,
   "metadata": {},
   "outputs": [],
   "source": [
    "data = [\n",
    "    [ ],\n",
    "    [ ]\n",
    "]"
   ]
  },
  {
   "cell_type": "markdown",
   "metadata": {},
   "source": [
    "## Clustering"
   ]
  },
  {
   "cell_type": "code",
   "execution_count": 290,
   "metadata": {},
   "outputs": [],
   "source": [
    "def euclidean():\n",
    "    return 0"
   ]
  },
  {
   "cell_type": "code",
   "execution_count": 57,
   "metadata": {},
   "outputs": [],
   "source": [
    "def manhattan():\n",
    "    return 0"
   ]
  },
  {
   "cell_type": "code",
   "execution_count": 58,
   "metadata": {},
   "outputs": [],
   "source": [
    "from sklearn.cluster import AgglomerativeClustering"
   ]
  },
  {
   "cell_type": "code",
   "execution_count": 59,
   "metadata": {},
   "outputs": [],
   "source": [
    "data = [\n",
    "    [0,0,0],\n",
    "    [0,1,1],\n",
    "    [1,1,0],\n",
    "    [1,0,1],\n",
    "    [1,1,1],\n",
    "    [1,1,0]\n",
    "]"
   ]
  },
  {
   "cell_type": "code",
   "execution_count": 73,
   "metadata": {},
   "outputs": [],
   "source": [
    "a = AgglomerativeClustering(n_clusters=2)"
   ]
  },
  {
   "cell_type": "code",
   "execution_count": 74,
   "metadata": {},
   "outputs": [
    {
     "data": {
      "text/plain": [
       "AgglomerativeClustering(affinity='euclidean', compute_full_tree='auto',\n",
       "            connectivity=None, linkage='ward', memory=None, n_clusters=2,\n",
       "            pooling_func=<function mean at 0x10e8a3840>)"
      ]
     },
     "execution_count": 74,
     "metadata": {},
     "output_type": "execute_result"
    }
   ],
   "source": [
    "a.fit(data)"
   ]
  },
  {
   "cell_type": "code",
   "execution_count": 76,
   "metadata": {},
   "outputs": [
    {
     "name": "stdout",
     "output_type": "stream",
     "text": [
      "[0 1 0 1 1 0]\n"
     ]
    }
   ],
   "source": [
    "print(a.labels_)\n"
   ]
  },
  {
   "cell_type": "markdown",
   "metadata": {},
   "source": [
    "## Similarity Search"
   ]
  },
  {
   "cell_type": "code",
   "execution_count": 56,
   "metadata": {},
   "outputs": [
    {
     "name": "stdout",
     "output_type": "stream",
     "text": [
      "Approximate neighbours with Jaccard similarity > 0.5 ['m2', 'm3']\n"
     ]
    }
   ],
   "source": [
    "from datasketch import MinHash, MinHashLSH\n",
    "\n",
    "set1 = set([0,0,1])\n",
    "set2 = set([1,1,0])\n",
    "set3 = set([1,1,1])\n",
    "\n",
    "m1 = MinHash(num_perm=128)\n",
    "m2 = MinHash(num_perm=128)\n",
    "m3 = MinHash(num_perm=128)\n",
    "\n",
    "# Create LSH index\n",
    "lsh = MinHashLSH(threshold=0.5, num_perm=128)\n",
    "lsh.insert(\"m2\", m2)\n",
    "lsh.insert(\"m3\", m3)\n",
    "result = lsh.query(m1)\n",
    "print(\"Approximate neighbours with Jaccard similarity > 0.5\", result)"
   ]
  },
  {
   "cell_type": "markdown",
   "metadata": {},
   "source": [
    "## Recommender Systems"
   ]
  },
  {
   "cell_type": "code",
   "execution_count": null,
   "metadata": {},
   "outputs": [],
   "source": []
  }
 ],
 "metadata": {
  "kernelspec": {
   "display_name": "Python 3",
   "language": "python",
   "name": "python3"
  },
  "language_info": {
   "codemirror_mode": {
    "name": "ipython",
    "version": 3
   },
   "file_extension": ".py",
   "mimetype": "text/x-python",
   "name": "python",
   "nbconvert_exporter": "python",
   "pygments_lexer": "ipython3",
   "version": "3.6.4"
  }
 },
 "nbformat": 4,
 "nbformat_minor": 2
}
