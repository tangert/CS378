{
 "cells": [
  {
   "cell_type": "markdown",
   "metadata": {},
   "source": [
    "# CS378 Final Notebook\n",
    "\n",
    "Do well boi."
   ]
  },
  {
   "cell_type": "code",
   "execution_count": 362,
   "metadata": {},
   "outputs": [],
   "source": [
    "import math"
   ]
  },
  {
   "cell_type": "markdown",
   "metadata": {},
   "source": [
    "## Frequent Pattern Mining"
   ]
  },
  {
   "cell_type": "markdown",
   "metadata": {},
   "source": [
    "## Classification"
   ]
  },
  {
   "cell_type": "markdown",
   "metadata": {},
   "source": [
    "### Info gain and entropy"
   ]
  },
  {
   "cell_type": "code",
   "execution_count": 367,
   "metadata": {},
   "outputs": [],
   "source": [
    "def info(class_counts):\n",
    "    # go through each of the class counts, sum them up, and then apply the formula\n",
    "    \n",
    "    e = 0\n",
    "    total = sum(class_counts)\n",
    "    \n",
    "    for count in class_counts:\n",
    "        if count == 0:\n",
    "            return 0\n",
    "        ratio = count/total\n",
    "        result = ratio*math.log(ratio,2)\n",
    "        e -= result\n",
    "    \n",
    "    return e"
   ]
  },
  {
   "cell_type": "code",
   "execution_count": 376,
   "metadata": {},
   "outputs": [],
   "source": [
    "def info_d(split_class_counts):    \n",
    "    ig = 0    \n",
    "    total = sum([sum(counts) for counts in split_class_counts])\n",
    "    \n",
    "    for counts in split_class_counts:\n",
    "        ratio = sum(counts)/total\n",
    "        ig += ratio*info(counts)\n",
    "    \n",
    "    return ig"
   ]
  },
  {
   "cell_type": "markdown",
   "metadata": {},
   "source": [
    "### ID3 metric: info gain"
   ]
  },
  {
   "cell_type": "code",
   "execution_count": 377,
   "metadata": {},
   "outputs": [],
   "source": [
    "def info_gain(info, data):\n",
    "    ids = [info_d(d) for d in data]\n",
    "    gains = [info-infod for infod in ids]\n",
    "    return {\n",
    "        \"all\": gains,\n",
    "        \"best\": max(gains),\n",
    "        \"best_index\": gains.index(max(gains))\n",
    "    }"
   ]
  },
  {
   "cell_type": "markdown",
   "metadata": {},
   "source": [
    "### C4.5 metric: gain ratio"
   ]
  },
  {
   "cell_type": "code",
   "execution_count": 378,
   "metadata": {},
   "outputs": [],
   "source": [
    "def split_info(split_class_counts):\n",
    "    \n",
    "    si = 0\n",
    "    total = sum([sum(counts) for counts in split_class_counts])\n",
    "    \n",
    "    for counts in split_class_counts:\n",
    "        ratio = sum(counts)/total\n",
    "        si -= ratio*math.log(ratio,2)\n",
    "        \n",
    "    return si"
   ]
  },
  {
   "cell_type": "code",
   "execution_count": 379,
   "metadata": {},
   "outputs": [],
   "source": [
    "def gain_ratio(info, split_class_counts):\n",
    "    \n",
    "    ig = (info_gain(info, split_class_counts))[\"all\"]    \n",
    "    sis = [split_info(count) for count in split_class_counts]    \n",
    "    grs = [tup[0]/tup[1] for tup in zip(ig,sis)]\n",
    "        \n",
    "    return {\n",
    "        \"all\": grs,\n",
    "        \"best\": max(grs),\n",
    "        \"best_index\": grs.index(max(grs))\n",
    "    }"
   ]
  },
  {
   "cell_type": "markdown",
   "metadata": {},
   "source": [
    "## Sandbox"
   ]
  },
  {
   "cell_type": "code",
   "execution_count": 384,
   "metadata": {},
   "outputs": [],
   "source": [
    "\"\"\"\n",
    "Initialize the overall information of whatever set of tuples you are working with.\n",
    "For example:\n",
    "\n",
    "For 6 tuples with either Yes or No in the label column:\n",
    "Yes: 4\n",
    "No: 2\n",
    "i = info([4,2])\n",
    "\n",
    "Once you find the best split, repeat this process with a\n",
    "subset of the original tuples that are only relevant to the best split\n",
    "\n",
    "For ex: Split on occuputation from the midterm\n",
    "Go through all of the classes for occupation:\n",
    "\n",
    "if a class has 100% purity, it's a leaf\n",
    "if it is impure, you repeat the above process .\n",
    "So for example you split on other and count all the yes/nos...\n",
    "another info:\n",
    "Yes: 1\n",
    "No: 2\n",
    "i = info([1,2])\n",
    "\n",
    "\"\"\"\n",
    "i = info([4,2])"
   ]
  },
  {
   "cell_type": "code",
   "execution_count": 385,
   "metadata": {},
   "outputs": [],
   "source": [
    "# calculating info gain on all splits\n",
    "data = [\n",
    "    [[1,1],[3,1]], #edu\n",
    "    [[3,1],[1,1]],\n",
    "    [[3,0],[1,2]]\n",
    "]"
   ]
  },
  {
   "cell_type": "code",
   "execution_count": 386,
   "metadata": {},
   "outputs": [
    {
     "data": {
      "text/plain": [
       "{'all': [0.044110417748401076, 0.044110417748401076, 0.4591479170272448],\n",
       " 'best': 0.4591479170272448,\n",
       " 'best_index': 2}"
      ]
     },
     "execution_count": 386,
     "metadata": {},
     "output_type": "execute_result"
    }
   ],
   "source": [
    "# calculate all of the info gains and return the number (index + 1) of the best one to split\n",
    "info_gain(i, data)"
   ]
  },
  {
   "cell_type": "code",
   "execution_count": 387,
   "metadata": {},
   "outputs": [
    {
     "data": {
      "text/plain": [
       "{'all': [0.04803508424256193, 0.04803508424256193, 0.4591479170272448],\n",
       " 'best': 0.4591479170272448,\n",
       " 'best_index': 2}"
      ]
     },
     "execution_count": 387,
     "metadata": {},
     "output_type": "execute_result"
    }
   ],
   "source": [
    "gain_ratio(i,data)"
   ]
  },
  {
   "cell_type": "markdown",
   "metadata": {},
   "source": [
    "## Clustering"
   ]
  },
  {
   "cell_type": "code",
   "execution_count": 290,
   "metadata": {},
   "outputs": [],
   "source": [
    "def euclidean():\n",
    "    return 0"
   ]
  },
  {
   "cell_type": "code",
   "execution_count": 13,
   "metadata": {},
   "outputs": [],
   "source": [
    "def manhattan():\n",
    "    return 0"
   ]
  },
  {
   "cell_type": "markdown",
   "metadata": {},
   "source": [
    "## Similarity Search"
   ]
  },
  {
   "cell_type": "code",
   "execution_count": null,
   "metadata": {},
   "outputs": [],
   "source": []
  },
  {
   "cell_type": "markdown",
   "metadata": {},
   "source": [
    "## Recommender Systems"
   ]
  },
  {
   "cell_type": "code",
   "execution_count": null,
   "metadata": {},
   "outputs": [],
   "source": []
  }
 ],
 "metadata": {
  "kernelspec": {
   "display_name": "Python 3",
   "language": "python",
   "name": "python3"
  },
  "language_info": {
   "codemirror_mode": {
    "name": "ipython",
    "version": 3
   },
   "file_extension": ".py",
   "mimetype": "text/x-python",
   "name": "python",
   "nbconvert_exporter": "python",
   "pygments_lexer": "ipython3",
   "version": "3.6.4"
  }
 },
 "nbformat": 4,
 "nbformat_minor": 2
}
